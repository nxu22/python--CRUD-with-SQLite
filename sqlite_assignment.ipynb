{
 "cells": [
  {
   "cell_type": "code",
   "execution_count": null,
   "id": "8a8ec651-272d-4a96-9cde-3f11ce0a1b4d",
   "metadata": {},
   "outputs": [],
   "source": [
    "# creation of a new database with a ramdomly generated name --( every time the script is run it should create a new database with a random name)"
   ]
  },
  {
   "cell_type": "code",
   "execution_count": 7,
   "id": "154beb6f-efd8-44ba-83e5-cb2ed35191ac",
   "metadata": {},
   "outputs": [
    {
     "name": "stdout",
     "output_type": "stream",
     "text": [
      "Generated database name: RyZnQ1lr.db\n",
      "Created database RyZnQ1lr.db\n"
     ]
    }
   ],
   "source": [
    "import sqlite3\n",
    "import random \n",
    "import string\n",
    "\n",
    "# function to generate a random database name.\n",
    "\n",
    "def generate_random_db_name():\n",
    "    return''.join(random.choices(string.ascii_letters + string.digits, k=8))+'.db'\n",
    "\n",
    "# Generate a random database name\n",
    "db_name = generate_random_db_name()\n",
    "print(f\"Generated database name: {db_name}\")\n",
    "\n",
    "# Create a new database with the generated random name\n",
    "conn = sqlite3.connect(db_name)\n",
    "print(f\"Created database {db_name}\")\n",
    "\n",
    "# Always remember to close the connection when you're done.\n",
    "conn.close()"
   ]
  },
  {
   "cell_type": "code",
   "execution_count": null,
   "id": "ffb81838-8522-4d4b-bcf8-d58820cc8435",
   "metadata": {},
   "outputs": [],
   "source": []
  },
  {
   "cell_type": "code",
   "execution_count": null,
   "id": "f2b6d51c-1878-44d6-9eb0-facaae9eecb7",
   "metadata": {},
   "outputs": [],
   "source": []
  },
  {
   "cell_type": "code",
   "execution_count": null,
   "id": "45453b93-7e9b-4b66-8a22-8f1d593f075b",
   "metadata": {},
   "outputs": [],
   "source": []
  }
 ],
 "metadata": {
  "kernelspec": {
   "display_name": "Python 3 (ipykernel)",
   "language": "python",
   "name": "python3"
  },
  "language_info": {
   "codemirror_mode": {
    "name": "ipython",
    "version": 3
   },
   "file_extension": ".py",
   "mimetype": "text/x-python",
   "name": "python",
   "nbconvert_exporter": "python",
   "pygments_lexer": "ipython3",
   "version": "3.12.3"
  }
 },
 "nbformat": 4,
 "nbformat_minor": 5
}
